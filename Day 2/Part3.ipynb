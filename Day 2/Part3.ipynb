{
 "cells": [
  {
   "cell_type": "markdown",
   "metadata": {},
   "source": [
    "# Search for elements with given classes and attributes\n"
   ]
  },
  {
   "cell_type": "code",
   "execution_count": 1,
   "metadata": {},
   "outputs": [],
   "source": [
    "import requests as req\n",
    "from bs4 import BeautifulSoup"
   ]
  },
  {
   "cell_type": "code",
   "execution_count": 2,
   "metadata": {},
   "outputs": [],
   "source": [
    "URL = 'https://pt.wikipedia.org/wiki/Ariquemes'\n",
    "r = req.get(URL)\n",
    "soup = BeautifulSoup(r.content)"
   ]
  },
  {
   "cell_type": "code",
   "execution_count": 3,
   "metadata": {},
   "outputs": [
    {
     "name": "stdout",
     "output_type": "stream",
     "text": [
      "900\n"
     ]
    }
   ],
   "source": [
    "links = soup.find_all(\"a\")\n",
    "print(len(links))"
   ]
  },
  {
   "cell_type": "code",
   "execution_count": 4,
   "metadata": {},
   "outputs": [
    {
     "data": {
      "text/plain": [
       "[<a id=\"top\"></a>,\n",
       " <a class=\"mw-jump-link\" href=\"#mw-head\">Saltar para a navegação</a>,\n",
       " <a class=\"mw-jump-link\" href=\"#searchInput\">Saltar para a pesquisa</a>,\n",
       " <a href=\"/wiki/Munic%C3%ADpios_do_Brasil\" title=\"Municípios do Brasil\">Município do Brasil</a>,\n",
       " <a class=\"image\" href=\"/wiki/Ficheiro:Outono_Ariquemes_-_panoramio.jpg\" title=\"Ariquemes num dia de Outono\"><img alt=\"Ariquemes num dia de Outono\" data-file-height=\"1938\" data-file-width=\"2584\" decoding=\"async\" height=\"225\" src=\"//upload.wikimedia.org/wikipedia/commons/thumb/e/e1/Outono_Ariquemes_-_panoramio.jpg/300px-Outono_Ariquemes_-_panoramio.jpg\" srcset=\"//upload.wikimedia.org/wikipedia/commons/thumb/e/e1/Outono_Ariquemes_-_panoramio.jpg/450px-Outono_Ariquemes_-_panoramio.jpg 1.5x, //upload.wikimedia.org/wikipedia/commons/thumb/e/e1/Outono_Ariquemes_-_panoramio.jpg/600px-Outono_Ariquemes_-_panoramio.jpg 2x\" width=\"300\"/></a>]"
      ]
     },
     "execution_count": 4,
     "metadata": {},
     "output_type": "execute_result"
    }
   ],
   "source": [
    "links[0:5]"
   ]
  },
  {
   "cell_type": "code",
   "execution_count": 7,
   "metadata": {},
   "outputs": [
    {
     "data": {
      "text/plain": [
       "[<a class=\"mw-jump-link\" href=\"#mw-head\">Saltar para a navegação</a>,\n",
       " <a class=\"mw-jump-link\" href=\"#searchInput\">Saltar para a pesquisa</a>]"
      ]
     },
     "execution_count": 7,
     "metadata": {},
     "output_type": "execute_result"
    }
   ],
   "source": [
    "attr_filter = {\"class\": \"mw-jump-link\"}\n",
    "soup.find_all(\"a\",attr_filter)"
   ]
  },
  {
   "cell_type": "code",
   "execution_count": 8,
   "metadata": {},
   "outputs": [
    {
     "data": {
      "text/plain": [
       "[<a class=\"mw-jump-link\" href=\"#mw-head\">Saltar para a navegação</a>]"
      ]
     },
     "execution_count": 8,
     "metadata": {},
     "output_type": "execute_result"
    }
   ],
   "source": [
    "attr_filter = {\"class\": \"mw-jump-link\", \"href\": \"#mw-head\"}\n",
    "soup.find_all(\"a\",attr_filter)"
   ]
  },
  {
   "cell_type": "code",
   "execution_count": 9,
   "metadata": {},
   "outputs": [
    {
     "data": {
      "text/plain": [
       "[<a class=\"mw-jump-link\" href=\"#mw-head\">Saltar para a navegação</a>]"
      ]
     },
     "execution_count": 9,
     "metadata": {},
     "output_type": "execute_result"
    }
   ],
   "source": [
    "attr_filter = {\"class\": \"no-print\"}\n",
    "soup.find_all(None, attar_filter)"
   ]
  },
  {
   "cell_type": "code",
   "execution_count": 11,
   "metadata": {},
   "outputs": [
    {
     "data": {
      "text/plain": [
       "[<div class=\"noprint\" id=\"mw-page-base\"></div>,\n",
       " <div class=\"noprint\" id=\"mw-head-base\"></div>,\n",
       " <div class=\"noprint\" id=\"siteSub\">Origem: Wikipédia, a enciclopédia livre.</div>,\n",
       " <ul class=\"noprint\" style=\"border-top: solid silver 1px; border-bottom:1px solid silver; padding:3px; background-color: #F9F9F9; text-align: center; margin-top:10px; margin-left: 0; clear: both;\"><li style=\"display: inline;\"><span style=\"white-space: nowrap; margin: auto 1.5em\"><span style=\"margin-right: 0.5em\"><a href=\"/wiki/Ficheiro:Bandeira_de_Rond%C3%B4nia.svg\" title=\"Portal de Rondônia\"><img alt=\"\" data-file-height=\"1400\" data-file-width=\"2000\" decoding=\"async\" height=\"18\" src=\"//upload.wikimedia.org/wikipedia/commons/thumb/f/fa/Bandeira_de_Rond%C3%B4nia.svg/25px-Bandeira_de_Rond%C3%B4nia.svg.png\" srcset=\"//upload.wikimedia.org/wikipedia/commons/thumb/f/fa/Bandeira_de_Rond%C3%B4nia.svg/38px-Bandeira_de_Rond%C3%B4nia.svg.png 1.5x, //upload.wikimedia.org/wikipedia/commons/thumb/f/fa/Bandeira_de_Rond%C3%B4nia.svg/50px-Bandeira_de_Rond%C3%B4nia.svg.png 2x\" width=\"25\"/></a></span> <span style=\"font-weight:bold\"><a href=\"/wiki/Portal:Rond%C3%B4nia\" title=\"Portal:Rondônia\">Portal de Rondônia</a></span></span></li> </ul>,\n",
       " <a class=\"noprint stopMobileRedirectToggle\" href=\"//pt.m.wikipedia.org/w/index.php?title=Ariquemes&amp;mobileaction=toggle_view_mobile\">Versão móvel</a>,\n",
       " <ul class=\"noprint\" id=\"footer-icons\">\n",
       " <li id=\"footer-copyrightico\"><a href=\"https://wikimediafoundation.org/\"><img alt=\"Wikimedia Foundation\" height=\"31\" loading=\"lazy\" src=\"/static/images/footer/wikimedia-button.png\" srcset=\"/static/images/footer/wikimedia-button-1.5x.png 1.5x, /static/images/footer/wikimedia-button-2x.png 2x\" width=\"88\"/></a></li>\n",
       " <li id=\"footer-poweredbyico\"><a href=\"https://www.mediawiki.org/\"><img alt=\"Powered by MediaWiki\" height=\"31\" loading=\"lazy\" src=\"/static/images/footer/poweredby_mediawiki_88x31.png\" srcset=\"/static/images/footer/poweredby_mediawiki_132x47.png 1.5x, /static/images/footer/poweredby_mediawiki_176x62.png 2x\" width=\"88\"/></a></li>\n",
       " </ul>]"
      ]
     },
     "execution_count": 11,
     "metadata": {},
     "output_type": "execute_result"
    }
   ],
   "source": [
    "attr_filter = {\"class\":\"noprint\"}\n",
    "soup.find_all(None,attr_filter)"
   ]
  },
  {
   "cell_type": "code",
   "execution_count": 13,
   "metadata": {},
   "outputs": [
    {
     "data": {
      "text/plain": [
       "[<span class=\"fn org\" style=\"font-size:130%;\">Ariquemes</span>]"
      ]
     },
     "execution_count": 13,
     "metadata": {},
     "output_type": "execute_result"
    }
   ],
   "source": [
    "attr_filter ={\"class\": \"fn\"}\n",
    "soup.find_all(None,attr_filter)"
   ]
  },
  {
   "cell_type": "code",
   "execution_count": 15,
   "metadata": {},
   "outputs": [
    {
     "data": {
      "text/plain": [
       "[<h1 class=\"firstHeading\" id=\"firstHeading\" lang=\"pt\">Ariquemes</h1>]"
      ]
     },
     "execution_count": 15,
     "metadata": {},
     "output_type": "execute_result"
    }
   ],
   "source": [
    "attr_filter={\"id\": \"firstHeading\"}\n",
    "soup.find_all(None,attr_filter)"
   ]
  },
  {
   "cell_type": "code",
   "execution_count": null,
   "metadata": {},
   "outputs": [],
   "source": []
  }
 ],
 "metadata": {
  "kernelspec": {
   "display_name": "Python 3",
   "language": "python",
   "name": "python3"
  },
  "language_info": {
   "codemirror_mode": {
    "name": "ipython",
    "version": 3
   },
   "file_extension": ".py",
   "mimetype": "text/x-python",
   "name": "python",
   "nbconvert_exporter": "python",
   "pygments_lexer": "ipython3",
   "version": "3.8.3"
  }
 },
 "nbformat": 4,
 "nbformat_minor": 4
}
