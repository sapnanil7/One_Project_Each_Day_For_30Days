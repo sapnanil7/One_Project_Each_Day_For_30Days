{
 "cells": [
  {
   "cell_type": "markdown",
   "metadata": {},
   "source": [
    "# Access elements and attributes inside HTML pages"
   ]
  },
  {
   "cell_type": "code",
   "execution_count": 1,
   "metadata": {},
   "outputs": [],
   "source": [
    "import requests as req\n",
    "from bs4 import BeautifulSoup"
   ]
  },
  {
   "cell_type": "code",
   "execution_count": 2,
   "metadata": {},
   "outputs": [],
   "source": [
    "URL = 'https://pt.wikipedia.org/wiki/Ariquemes'\n",
    "r = req.get(URL)\n",
    "soup = BeautifulSoup(r.content)"
   ]
  },
  {
   "cell_type": "code",
   "execution_count": 3,
   "metadata": {},
   "outputs": [
    {
     "data": {
      "text/plain": [
       "'<!DOCTYPE html>\\n<html class=\"client-nojs\" dir=\"ltr\" lang=\"pt\">\\n <head>\\n  <meta charset=\"utf-8\"/>\\n  <title>\\n   Ariquemes – Wikipédia, a enciclopédia livre\\n  </title>\\n  <script>\\n   document.documentElement.className=\"client-js\";RLCONF={\"wgBreakFrames\":!1,\"wgSeparatorTransformTable\":[\",\\\\t.\",\"\\xa0\\\\t,\"],\"wgDigitTransformTable\":[\"\",\"\"],\"wgDefaultDateFormat\":\"dmy\",\"wgMonthNames\":[\"\",\"janeiro\",\"fevereiro\",\"março\",\"abril\",\"maio\",\"junho\",\"julho\",\"agosto\",\"setembro\",\"outubro\",\"novembro\",\"dezembro\"],\"wgRequestId\":\"5ba25746-f54a-473c-b27d-a4264559ff62\",\"wgCSPNonce\":!1,\"wgCanonicalNamespace\":\"\",\"wgCanonicalSpecialPageName\":!1,\"wgNamespaceNumber\":0,\"wgPageName\":\"Ariquemes\",\"wgTitle\":\"Ariquemes\",\"wgCurRevisionId\":59188265,\"wgRevisionId\":59188265,\"wgArticleId\":33863,\"wgIsArticle\":!0,\"wgIsRedirect\":!1,\"wgAction\":\"view\",\"wgUserName\":null,\"wgUserGroups\":[\"*\"],\"wgCategories\":[\"!Páginas com citações sem título\",\"!Páginas com citações e URLs vazios\",\"!Imagem local diferente da no Wikidata\",\"!Infobox com geocoor'"
      ]
     },
     "execution_count": 3,
     "metadata": {},
     "output_type": "execute_result"
    }
   ],
   "source": [
    "soup.prettify()[:1000]"
   ]
  },
  {
   "cell_type": "code",
   "execution_count": 4,
   "metadata": {},
   "outputs": [
    {
     "name": "stdout",
     "output_type": "stream",
     "text": [
      "<h1 class=\"firstHeading\" id=\"firstHeading\" lang=\"pt\">Ariquemes</h1>\n"
     ]
    }
   ],
   "source": [
    "title =soup.h1\n",
    "print(title)"
   ]
  },
  {
   "cell_type": "code",
   "execution_count": 5,
   "metadata": {},
   "outputs": [
    {
     "name": "stdout",
     "output_type": "stream",
     "text": [
      "<img alt=\"Ariquemes num dia de Outono\" data-file-height=\"1938\" data-file-width=\"2584\" decoding=\"async\" height=\"225\" src=\"//upload.wikimedia.org/wikipedia/commons/thumb/e/e1/Outono_Ariquemes_-_panoramio.jpg/300px-Outono_Ariquemes_-_panoramio.jpg\" srcset=\"//upload.wikimedia.org/wikipedia/commons/thumb/e/e1/Outono_Ariquemes_-_panoramio.jpg/450px-Outono_Ariquemes_-_panoramio.jpg 1.5x, //upload.wikimedia.org/wikipedia/commons/thumb/e/e1/Outono_Ariquemes_-_panoramio.jpg/600px-Outono_Ariquemes_-_panoramio.jpg 2x\" width=\"300\"/>\n"
     ]
    }
   ],
   "source": [
    "print(soup.img)"
   ]
  },
  {
   "cell_type": "code",
   "execution_count": 6,
   "metadata": {},
   "outputs": [
    {
     "name": "stdout",
     "output_type": "stream",
     "text": [
      "<table border=\"0\" cellpadding=\"3\" class=\"infobox_v2\" style=\"width: 20em; text-align: left; font-size: 88%;\">\n",
      "<tbody><tr>\n",
      "<th class=\"topo padrao\" colspan=\"2\" style=\"width:100%; background-color:#f9f9f9; color:#000;\"><span class=\"\"><table style=\"border-spacing: 0; border-collapse: collapse; width:100%; background-color: #f9f9f9; color: #000\">\n",
      "<tbody><tr style=\"vertical-align:top;\">\n",
      "<td style=\"text-align:center; white-space:normal; font-weight:800; font-size:80%; line-height:105%;\"><span class=\"fn org\" style=\"font-size:130%;\">Ariquemes</span></td>\n",
      "</tr></tbody></table></span>\n",
      "</th></tr>\n",
      "<tr>\n",
      "<th colspan=\"2\" style=\"text-align:center; width:100%; text-align:center; background:#cddeff;\">  <b><a href=\"/wiki/Munic%C3%ADpios_do_Brasil\" title=\"Municípios do Brasil\">Município do Brasil</a></b>  \n",
      "</th></tr>\n",
      "<tr>\n",
      "<td colspan=\"2\" style=\"vertical-align: top; text-align: center; border-top: 1px solid #a2a9b1;\"><div class=\"floatnone\"><a class=\"image\" href=\"/wiki/Ficheiro:Outono_Ariquemes_-_panoramio.jpg\" title=\"Ariquemes num dia de Outono\"><img alt=\"Ariquemes num dia de Outono\" data-file-height=\"1938\" data-file-width=\"2584\" decoding=\"async\" height=\"225\" src=\"//upload.wikimedia.org/wikipedia/commons/thumb/e/e1/Outono_Ariquemes_-_panoramio.jpg/300px-Outono_Ariquemes_-_panoramio.jpg\" srcset=\"//upload.wikimedia.org/wikipedia/commons/thumb/e/e1/Outono_Ariquemes_-_panoramio.jpg/450px-Outono_Ariquemes_-_panoramio.jpg 1.5x, //upload.wikimedia.org/wikipedia/commons/thumb/e/e1/Outono_Ariquemes_-_panoramio.jpg/600px-Outono_Ariquemes_-_panoramio.jpg 2x\" width=\"300\"/></a></div><small>Ariquemes num dia de Outono</small>\n",
      "</td></tr>\n",
      "<tr>\n",
      "<th colspan=\"2\" style=\"text-align:center; border-top: 1px solid #a2a9b1;\"><b>Símbolos</b>\n",
      "</th></tr>\n",
      "<tr>\n",
      "<td colspan=\"2\" style=\"vertical-align: top; text-align: center;\"><table style=\"width:100%; background:none;\">\n",
      "<tbody><tr><td style=\"vertical-align:middle;text-align:center;\"> <a class=\"image\" href=\"/wiki/Ficheiro:Ariquemes_bandeira.jpg\" title=\"Bandeira de Ariquemes\"><img alt=\"Bandeira de Ariquemes\" class=\"thumbborder\" data-file-height=\"484\" data-file-width=\"684\" decoding=\"async\" height=\"88\" src=\"//upload.wikimedia.org/wikipedia/commons/thumb/c/c0/Ariquemes_bandeira.jpg/125px-Ariquemes_bandeira.jpg\" srcset=\"//upload.wikimedia.org/wikipedia/commons/thumb/c/c0/Ariquemes_bandeira.jpg/188px-Ariquemes_bandeira.jpg 1.5x, //upload.wikimedia.org/wikipedia/commons/thumb/c/c0/Ariquemes_bandeira.jpg/250px-Ariquemes_bandeira.jpg 2x\" width=\"125\"/></a><br/><small><b>Bandeira</b></small></td>\n",
      "<td style=\"text-align:center;\"><a class=\"image\" href=\"/wiki/Ficheiro:Seal_of_Ariquemes.jpg\" title=\"Brasão de armas de Ariquemes\"><img alt=\"Brasão de armas de Ariquemes\" data-file-height=\"836\" data-file-width=\"716\" decoding=\"async\" height=\"99\" src=\"//upload.wikimedia.org/wikipedia/commons/thumb/1/1f/Seal_of_Ariquemes.jpg/85px-Seal_of_Ariquemes.jpg\" srcset=\"//upload.wikimedia.org/wikipedia/commons/thumb/1/1f/Seal_of_Ariquemes.jpg/128px-Seal_of_Ariquemes.jpg 1.5x, //upload.wikimedia.org/wikipedia/commons/thumb/1/1f/Seal_of_Ariquemes.jpg/170px-Seal_of_Ariquemes.jpg 2x\" width=\"85\"/></a><br/><small><b><a href=\"/wiki/Bras%C3%A3o\" title=\"Brasão\">Brasão de armas</a></b></small></td>\n",
      "</tr></tbody></table>\n",
      "</td></tr>\n",
      "<tr>\n",
      "<td colspan=\"2\" style=\"vertical-align: top; text-align: center;\"><small><a class=\"extiw\" href=\"https://pt.wikisource.org/wiki/Hino_do_munic%C3%ADpio_de_Ariquemes\" title=\"s:Hino do município de Ariquemes\">Hino</a></small>\n",
      "</td></tr>\n",
      "<tr>\n",
      "<td scope=\"row\" style=\"vertical-align: top; text-align: left; font-weight:bold;\"><a href=\"/wiki/Alcunha\" title=\"Alcunha\">Apelido(s)</a>\n",
      "</td>\n",
      "<td style=\"vertical-align: top; text-align: left;\">\"Celeiro Rondoniense\"\n",
      "</td></tr>\n",
      "<tr>\n",
      "<td scope=\"row\" style=\"vertical-align: top; text-align: left; font-weight:bold;\">Gentílico\n",
      "</td>\n",
      "<td style=\"vertical-align: top; text-align: left;\"><i>ariquemense</i>\n",
      "</td></tr>\n",
      "<tr>\n",
      "<th colspan=\"2\" style=\"text-align:center; border-top: 1px solid #a2a9b1;\">Localização\n",
      "</th></tr>\n",
      "<tr>\n",
      "<td colspan=\"2\" style=\"vertical-align: top; text-align: center;\"></td></tr><tr class=\"mergedrow\">\n",
      "<td colspan=\"2\" style=\"text-align:center;\"><div class=\"floatnone\"><a class=\"image\" href=\"/wiki/Ficheiro:Rondonia_Municip_Ariquemes.svg\" title=\"Localização de Ariquemes em Rondônia\"><img alt=\"Localização de Ariquemes em Rondônia\" data-file-height=\"687\" data-file-width=\"819\" decoding=\"async\" height=\"252\" src=\"//upload.wikimedia.org/wikipedia/commons/thumb/2/29/Rondonia_Municip_Ariquemes.svg/300px-Rondonia_Municip_Ariquemes.svg.png\" srcset=\"//upload.wikimedia.org/wikipedia/commons/thumb/2/29/Rondonia_Municip_Ariquemes.svg/450px-Rondonia_Municip_Ariquemes.svg.png 1.5x, //upload.wikimedia.org/wikipedia/commons/thumb/2/29/Rondonia_Municip_Ariquemes.svg/600px-Rondonia_Municip_Ariquemes.svg.png 2x\" width=\"300\"/></a></div><small>Localização de Ariquemes em Rondônia</small>\n",
      "</td></tr><tr class=\"mergedrow\">\n",
      "<td colspan=\"2\" style=\"text-align:center;\"><div class=\"mw-kartographer-container thumb tnone center\"><div class=\"thumbinner\" style=\"width: 250px;\"><a class=\"mw-kartographer-map\" data-height=\"300\" data-lat=\"-9.9133333333333\" data-lon=\"-63.040833333333\" data-mw=\"interface\" data-overlays='[\"_bb8ba500357f08010f0e695455f8404ec59c03bd\"]' data-style=\"osm-intl\" data-width=\"250\" data-zoom=\"11\" href=\"/wiki/Especial:Map/11/-9.9133333333333/-63.040833333333/pt\" style=\"width: 250px; height: 300px;\"><img alt=\"\" decoding=\"async\" height=\"300\" src=\"https://maps.wikimedia.org/img/osm-intl,11,-9.9133333333333,-63.040833333333,250x300.png?lang=pt&amp;domain=pt.wikipedia.org&amp;title=Ariquemes&amp;groups=_bb8ba500357f08010f0e695455f8404ec59c03bd\" srcset=\"https://maps.wikimedia.org/img/osm-intl,11,-9.9133333333333,-63.040833333333,250x300@2x.png?lang=pt&amp;domain=pt.wikipedia.org&amp;title=Ariquemes&amp;groups=_bb8ba500357f08010f0e695455f8404ec59c03bd 2x\" width=\"250\"/></a><div class=\"thumbcaption\"></div></div></div>\n",
      "<small>Mapa de Ariquemes</small></td></tr>\n",
      "<tr>\n",
      "<td scope=\"row\" style=\"vertical-align: top; text-align: left; font-weight:bold;\">Coordenadas\n",
      "</td>\n",
      "<td style=\"vertical-align: top; text-align: left;\"><small><span class=\"plainlinksneverexpand\"><a class=\"external text\" href=\"http://tools.wmflabs.org/geohack/geohack.php?pagename=Ariquemes&amp;params=9_54_48_S_63_02_27_W_type:city_region:BR\"><span title=\"Mapas, fotos aéreas e outros dados para este local\"><span title=\"Mapas, fotos aéreas e outros dados para este local\"><span style=\"white-space:nowrap\">9° 54' 48\" S</span> <span style=\"white-space:nowrap\">63° 02' 27\" O</span></span></span></a></span></small>\n",
      "</td></tr>\n",
      "<tr>\n",
      "<td scope=\"row\" style=\"vertical-align: top; text-align: left; font-weight:bold;\">País\n",
      "</td>\n",
      "<td style=\"vertical-align: top; text-align: left;\"><a href=\"/wiki/Brasil\" title=\"Brasil\">Brasil</a>\n",
      "</td></tr>\n",
      "<tr>\n",
      "<td scope=\"row\" style=\"vertical-align: top; text-align: left; font-weight:bold;\"><a class=\"mw-redirect\" href=\"/wiki/Unidades_federativas_do_Brasil\" title=\"Unidades federativas do Brasil\">Unidade federativa</a>\n",
      "</td>\n",
      "<td style=\"vertical-align: top; text-align: left;\"><a href=\"/wiki/Rond%C3%B4nia\" title=\"Rondônia\">Rondônia</a>\n",
      "</td></tr>\n",
      "<tr>\n",
      "<td scope=\"row\" style=\"vertical-align: top; text-align: left; font-weight:bold;\"><a href=\"/wiki/Regi%C3%B5es_geogr%C3%A1ficas_intermedi%C3%A1rias_e_imediatas\" title=\"Regiões geográficas intermediárias e imediatas\">Região intermediária</a><sup class=\"reference\" id=\"cite_ref-IBGE_DTB_2017_1-0\"><a href=\"#cite_note-IBGE_DTB_2017-1\"><span>[</span>1<span>]</span></a></sup>\n",
      "</td>\n",
      "<td style=\"vertical-align: top; text-align: left;\"><a href=\"/wiki/Regi%C3%A3o_Geogr%C3%A1fica_Intermedi%C3%A1ria_de_Porto_Velho\" title=\"Região Geográfica Intermediária de Porto Velho\">Porto Velho</a>\n",
      "</td></tr>\n",
      "<tr>\n",
      "<td scope=\"row\" style=\"vertical-align: top; text-align: left; font-weight:bold;\"><a href=\"/wiki/Regi%C3%B5es_geogr%C3%A1ficas_intermedi%C3%A1rias_e_imediatas\" title=\"Regiões geográficas intermediárias e imediatas\">Região imediata</a><sup class=\"reference\" id=\"cite_ref-IBGE_DTB_2017_1-1\"><a href=\"#cite_note-IBGE_DTB_2017-1\"><span>[</span>1<span>]</span></a></sup>\n",
      "</td>\n",
      "<td style=\"vertical-align: top; text-align: left;\"><a href=\"/wiki/Regi%C3%A3o_Geogr%C3%A1fica_Imediata_de_Ariquemes\" title=\"Região Geográfica Imediata de Ariquemes\">Ariquemes</a>\n",
      "</td></tr>\n",
      "<tr>\n",
      "<td scope=\"row\" style=\"vertical-align: top; text-align: left; font-weight:bold;\">Municípios limítrofes\n",
      "</td>\n",
      "<td style=\"vertical-align: top; text-align: left;\"><a href=\"/wiki/Alto_Para%C3%ADso_(Rond%C3%B4nia)\" title=\"Alto Paraíso (Rondônia)\">Alto Paraíso</a>, <a href=\"/wiki/Buritis_(Rond%C3%B4nia)\" title=\"Buritis (Rondônia)\">Buritis</a>, <a href=\"/wiki/Cacaul%C3%A2ndia\" title=\"Cacaulândia\">Cacaulândia</a>, <a href=\"/wiki/Machadinho_d%27Oeste\" title=\"Machadinho d'Oeste\">Machadinho d'Oeste</a>, <a href=\"/wiki/Monte_Negro\" title=\"Monte Negro\">Monte Negro</a>, <a href=\"/wiki/Rio_Crespo\" title=\"Rio Crespo\">Rio Crespo</a>, <a href=\"/wiki/Theobroma\" title=\"Theobroma\">Theobroma</a>\n",
      "</td></tr>\n",
      "<tr>\n",
      "<td scope=\"row\" style=\"vertical-align: top; text-align: left; font-weight:bold;\">Distância até a <a href=\"/wiki/Porto_Velho\" title=\"Porto Velho\">capital</a>\n",
      "</td>\n",
      "<td style=\"vertical-align: top; text-align: left;\">198 <a href=\"/wiki/Quil%C3%B4metro\" title=\"Quilômetro\">km</a>\n",
      "</td></tr>\n",
      "<tr>\n",
      "<th colspan=\"2\" style=\"text-align:center; border-top: 1px solid #a2a9b1;\">História\n",
      "</th></tr>\n",
      "<tr>\n",
      "<td scope=\"row\" style=\"vertical-align: top; text-align: left; font-weight:bold;\">Fundação\n",
      "</td>\n",
      "<td style=\"vertical-align: top; text-align: left;\"><a href=\"/wiki/1915\" title=\"1915\">1915</a> (105 anos)\n",
      "</td></tr>\n",
      "<tr>\n",
      "<td scope=\"row\" style=\"vertical-align: top; text-align: left; font-weight:bold;\">Emancipação\n",
      "</td>\n",
      "<td style=\"vertical-align: top; text-align: left;\"><a href=\"/wiki/11_de_outubro\" title=\"11 de outubro\">11 de outubro</a> de <a href=\"/wiki/1977\" title=\"1977\">1977</a> (42 anos)\n",
      "</td></tr>\n",
      "<tr>\n",
      "<td scope=\"row\" style=\"vertical-align: top; text-align: left; font-weight:bold;\"><a href=\"/wiki/Anivers%C3%A1rio\" title=\"Aniversário\">Aniversário</a>\n",
      "</td>\n",
      "<td style=\"vertical-align: top; text-align: left;\">11 de outubro\n",
      "</td></tr>\n",
      "<tr>\n",
      "<th colspan=\"2\" style=\"text-align:center; border-top: 1px solid #a2a9b1;\">Administração\n",
      "</th></tr>\n",
      "<tr>\n",
      "<td scope=\"row\" style=\"vertical-align: top; text-align: left; font-weight:bold;\"><a href=\"/wiki/Lista_de_prefeitos_de_Ariquemes\" title=\"Lista de prefeitos de Ariquemes\">Prefeito(a)</a>\n",
      "</td>\n",
      "<td style=\"vertical-align: top; text-align: left;\"><a class=\"new\" href=\"/w/index.php?title=Thiago_Flores&amp;action=edit&amp;redlink=1\" title=\"Thiago Flores (página não existe)\">Thiago Flores</a> (<a class=\"mw-disambig\" href=\"/wiki/PSL\" title=\"PSL\">PSL</a>, 2017 – 2020)\n",
      "</td></tr>\n",
      "<tr>\n",
      "<th colspan=\"2\" style=\"text-align:center; border-top: 1px solid #a2a9b1;\">Características geográficas\n",
      "</th></tr>\n",
      "<tr>\n",
      "<td scope=\"row\" style=\"vertical-align: top; text-align: left; font-weight:bold;\"><a href=\"/wiki/Territ%C3%B3rio\" title=\"Território\">Área total</a> <style data-mw-deduplicate=\"TemplateStyles:r57040788\">.mw-parser-output .nobold{font-weight:normal}</style><span class=\"nobold\"><sup class=\"reference\" id=\"cite_ref-IBGE_3-0\"><a href=\"#cite_note-IBGE-3\"><span>[</span>3<span>]</span></a></sup></span>\n",
      "</td>\n",
      "<td style=\"vertical-align: top; text-align: left;\">4 426,571 km²\n",
      "</td></tr>\n",
      "<tr>\n",
      "<td scope=\"row\" style=\"vertical-align: top; text-align: left; font-weight:100; font-size:90%;\"> • Área urbana  <link href=\"mw-data:TemplateStyles:r57040788\" rel=\"mw-deduplicated-inline-style\"/><span class=\"nobold\">est. <a class=\"mw-redirect\" href=\"/wiki/Embrapa\" title=\"Embrapa\">Embrapa</a><sup class=\"reference\" id=\"cite_ref-4\"><a href=\"#cite_note-4\"><span>[</span>4<span>]</span></a></sup></span>\n",
      "</td>\n",
      "<td style=\"vertical-align: top; text-align: left;\">16,26 km²\n",
      "</td></tr>\n",
      "<tr>\n",
      "<td scope=\"row\" style=\"vertical-align: top; text-align: left; font-weight:bold;\"><a href=\"/wiki/Popula%C3%A7%C3%A3o\" title=\"População\">População total</a> <link href=\"mw-data:TemplateStyles:r57040788\" rel=\"mw-deduplicated-inline-style\"/><span class=\"nobold\">(estimativa IBGE/2020<sup class=\"reference\" id=\"cite_ref-IBGE_Pop_2020_5-0\"><a href=\"#cite_note-IBGE_Pop_2020-5\"><span>[</span>5<span>]</span></a></sup>)</span>\n",
      "</td>\n",
      "<td style=\"vertical-align: top; text-align: left;\">109 523 hab.\n",
      "</td></tr>\n",
      "<tr>\n",
      "<td scope=\"row\" style=\"vertical-align: top; text-align: left; font-weight:100; font-size:90%;\"><span style=\"white-space:nowrap;\"><link href=\"mw-data:TemplateStyles:r57040788\" rel=\"mw-deduplicated-inline-style\"/><span class=\"nobold\"> • Posição</span></span>\n",
      "</td>\n",
      "<td style=\"vertical-align: top; text-align: left;\"><a href=\"/wiki/Lista_de_munic%C3%ADpios_do_Brasil_por_popula%C3%A7%C3%A3o\" title=\"Lista de municípios do Brasil por população\">BR: 312º</a>, <a href=\"/wiki/Lista_de_munic%C3%ADpios_de_Rond%C3%B4nia_por_popula%C3%A7%C3%A3o\" title=\"Lista de municípios de Rondônia por população\">RO: 3º</a>\n",
      "</td></tr>\n",
      "<tr>\n",
      "<td scope=\"row\" style=\"vertical-align: top; text-align: left; font-weight:bold;\"><a href=\"/wiki/Densidade_populacional\" title=\"Densidade populacional\">Densidade</a>\n",
      "</td>\n",
      "<td style=\"vertical-align: top; text-align: left;\"><span style=\"white-space:nowrap;\">24,7 hab./km²</span>\n",
      "</td></tr>\n",
      "<tr>\n",
      "<td scope=\"row\" style=\"vertical-align: top; text-align: left; font-weight:bold;\">Clima\n",
      "</td>\n",
      "<td style=\"vertical-align: top; text-align: left;\">Equatorial (<a href=\"/wiki/Classifica%C3%A7%C3%A3o_clim%C3%A1tica_de_K%C3%B6ppen-Geiger\" title=\"Classificação climática de Köppen-Geiger\">Am</a>)\n",
      "</td></tr>\n",
      "<tr>\n",
      "<td scope=\"row\" style=\"vertical-align: top; text-align: left; font-weight:bold;\"><a href=\"/wiki/Altitude\" title=\"Altitude\">Altitude</a>\n",
      "</td>\n",
      "<td style=\"vertical-align: top; text-align: left;\">142 m\n",
      "</td></tr>\n",
      "<tr>\n",
      "<td scope=\"row\" style=\"vertical-align: top; text-align: left; font-weight:bold;\"><a href=\"/wiki/Fuso_hor%C3%A1rio\" title=\"Fuso horário\">Fuso horário</a>\n",
      "</td>\n",
      "<td style=\"vertical-align: top; text-align: left;\">Hora do Amazonas (<a class=\"mw-redirect\" href=\"/wiki/UTC%E2%88%924\" title=\"UTC−4\">UTC−4</a>)\n",
      "</td></tr>\n",
      "<tr>\n",
      "<td scope=\"row\" style=\"vertical-align: top; text-align: left; font-weight:bold;\"><a href=\"/wiki/C%C3%B3digo_de_Endere%C3%A7amento_Postal\" title=\"Código de Endereçamento Postal\">CEP</a>\n",
      "</td>\n",
      "<td style=\"vertical-align: top; text-align: left;\">76870-001 a 76879-999<sup class=\"reference\" id=\"cite_ref-2\"><a href=\"#cite_note-2\"><span>[</span>2<span>]</span></a></sup>\n",
      "</td></tr>\n",
      "<tr>\n",
      "<th colspan=\"2\" style=\"text-align:center; border-top: 1px solid #a2a9b1;\">Indicadores\n",
      "</th></tr>\n",
      "<tr>\n",
      "<td scope=\"row\" style=\"vertical-align: top; text-align: left; font-weight:bold;\"><a href=\"/wiki/%C3%8Dndice_de_Desenvolvimento_Humano\" title=\"Índice de Desenvolvimento Humano\">IDH</a> <link href=\"mw-data:TemplateStyles:r57040788\" rel=\"mw-deduplicated-inline-style\"/><span class=\"nobold\">(<a class=\"mw-redirect\" href=\"/wiki/PNUD\" title=\"PNUD\">PNUD</a>/2010<sup class=\"reference\" id=\"cite_ref-PNUD_IDH_2010_6-0\"><a href=\"#cite_note-PNUD_IDH_2010-6\"><span>[</span>6<span>]</span></a></sup>)</span>\n",
      "</td>\n",
      "<td style=\"vertical-align: top; text-align: left;\">0,702 <i><small>— <span style='color:green;\"'>alto</span></small></i>\n",
      "</td></tr>\n",
      "<tr>\n",
      "<td scope=\"row\" style=\"vertical-align: top; text-align: left; font-weight:bold;\"><span style=\"white-space:nowrap;\"><link href=\"mw-data:TemplateStyles:r57040788\" rel=\"mw-deduplicated-inline-style\"/><span class=\"nobold\"> • Posição</span></span>\n",
      "</td>\n",
      "<td style=\"vertical-align: top; text-align: left;\"><a href=\"/wiki/Lista_de_munic%C3%ADpios_do_Brasil_por_IDH\" title=\"Lista de municípios do Brasil por IDH\">BR: 1842º</a>, <a href=\"/wiki/Lista_de_munic%C3%ADpios_de_Rond%C3%B4nia_por_IDH-M\" title=\"Lista de municípios de Rondônia por IDH-M\">RO: 6º</a>\n",
      "</td></tr>\n",
      "<tr>\n",
      "<td scope=\"row\" style=\"vertical-align: top; text-align: left; font-weight:bold;\"><a href=\"/wiki/Coeficiente_de_Gini\" title=\"Coeficiente de Gini\">Gini</a> <link href=\"mw-data:TemplateStyles:r57040788\" rel=\"mw-deduplicated-inline-style\"/><span class=\"nobold\">(IBGE/2003<sup class=\"reference\" id=\"cite_ref-7\"><a href=\"#cite_note-7\"><span>[</span>7<span>]</span></a></sup>)</span>\n",
      "</td>\n",
      "<td style=\"vertical-align: top; text-align: left;\">0,440\n",
      "</td></tr>\n",
      "<tr>\n",
      "<td scope=\"row\" style=\"vertical-align: top; text-align: left; font-weight:bold;\"><a href=\"/wiki/Produto_interno_bruto\" title=\"Produto interno bruto\">PIB</a> <link href=\"mw-data:TemplateStyles:r57040788\" rel=\"mw-deduplicated-inline-style\"/><span class=\"nobold\">(IBGE/2016<sup class=\"reference\" id=\"cite_ref-IBGE_PIB_8-0\"><a href=\"#cite_note-IBGE_PIB-8\"><span>[</span>8<span>]</span></a></sup>)</span>\n",
      "</td>\n",
      "<td style=\"vertical-align: top; text-align: left;\"><a href=\"/wiki/Real_(moeda)\" title=\"Real (moeda)\">R$</a> 2 183 383,20 mil\n",
      "</td></tr>\n",
      "<tr>\n",
      "<td scope=\"row\" style=\"vertical-align: top; text-align: left; font-weight:bold;\"><span style=\"white-space:nowrap;\"><link href=\"mw-data:TemplateStyles:r57040788\" rel=\"mw-deduplicated-inline-style\"/><span class=\"nobold\"> • Posição</span></span>\n",
      "</td>\n",
      "<td style=\"vertical-align: top; text-align: left;\"><a href=\"/wiki/Lista_de_munic%C3%ADpios_do_Brasil_por_PIB\" title=\"Lista de municípios do Brasil por PIB\">BR: 389º</a>, <a href=\"/wiki/Lista_de_munic%C3%ADpios_de_Rond%C3%B4nia_por_PIB\" title=\"Lista de municípios de Rondônia por PIB\">RO: 4º</a>\n",
      "</td></tr>\n",
      "<tr>\n",
      "<td scope=\"row\" style=\"vertical-align: top; text-align: left; font-weight:bold;\"><a href=\"/wiki/Produto_interno_bruto#PIB_per_capita\" title=\"Produto interno bruto\">PIB <i>per capita</i></a> <link href=\"mw-data:TemplateStyles:r57040788\" rel=\"mw-deduplicated-inline-style\"/><span class=\"nobold\">(IBGE/2016<sup class=\"reference\" id=\"cite_ref-IBGE_PIB_8-1\"><a href=\"#cite_note-IBGE_PIB-8\"><span>[</span>8<span>]</span></a></sup>)</span>\n",
      "</td>\n",
      "<td style=\"vertical-align: top; text-align: left;\"><a href=\"/wiki/Real_(moeda)\" title=\"Real (moeda)\">R$</a> 20 618,18\n",
      "</td></tr>\n",
      "<tr>\n",
      "<th colspan=\"2\" style=\"text-align:center; border-top: 1px solid #a2a9b1;\">Outras informações\n",
      "</th></tr>\n",
      "<tr>\n",
      "<td scope=\"row\" style=\"vertical-align: top; text-align: left; font-weight:bold;\"><a href=\"/wiki/Orago\" title=\"Orago\">Padroeiro(a)</a>\n",
      "</td>\n",
      "<td style=\"vertical-align: top; text-align: left;\"><a class=\"mw-redirect\" href=\"/wiki/S%C3%A3o_Francisco_de_Assis\" title=\"São Francisco de Assis\">São Francisco de Assis</a>\n",
      "</td></tr>\n",
      "<tr>\n",
      "<td scope=\"row\" style=\"vertical-align: top; text-align: left; font-weight:bold;\">Website\n",
      "</td>\n",
      "<td style=\"vertical-align: top; text-align: left;\"><a class=\"external free\" href=\"http://www.ariquemes.ro.gov.br/\" rel=\"nofollow\">http://www.ariquemes.ro.gov.br/</a> (<a href=\"/wiki/Prefeitura_(Brasil)\" title=\"Prefeitura (Brasil)\">Prefeitura</a>)<br/><a class=\"external free\" href=\"http://www.camaradeariquemes.ro.gov.br/\" rel=\"nofollow\">http://www.camaradeariquemes.ro.gov.br/</a> (<a href=\"/wiki/C%C3%A2mara_municipal_(Brasil)\" title=\"Câmara municipal (Brasil)\">Câmara</a>)\n",
      "</td></tr>\n",
      "</tbody></table>\n"
     ]
    }
   ],
   "source": [
    "print(soup.table)"
   ]
  },
  {
   "cell_type": "code",
   "execution_count": 8,
   "metadata": {},
   "outputs": [
    {
     "name": "stdout",
     "output_type": "stream",
     "text": [
      "14\n"
     ]
    }
   ],
   "source": [
    "tables = soup.find_all(\"table\")\n",
    "print(len(tables))"
   ]
  },
  {
   "cell_type": "code",
   "execution_count": 12,
   "metadata": {},
   "outputs": [
    {
     "name": "stdout",
     "output_type": "stream",
     "text": [
      "<table style=\"border-spacing: 0; border-collapse: collapse; width:100%; background-color: #f9f9f9; color: #000\">\n",
      "<tbody><tr style=\"vertical-align:top;\">\n",
      "<td style=\"text-align:center; white-space:normal; font-weight:800; font-size:80%; line-height:105%;\"><span class=\"fn org\" style=\"font-size:130%;\">Ariquemes</span></td>\n",
      "</tr></tbody></table>\n"
     ]
    }
   ],
   "source": [
    "print(tables[1])"
   ]
  },
  {
   "cell_type": "code",
   "execution_count": 14,
   "metadata": {},
   "outputs": [
    {
     "data": {
      "text/plain": [
       "'border-spacing: 0; border-collapse: collapse; width:100%; background-color: #f9f9f9; color: #000'"
      ]
     },
     "execution_count": 14,
     "metadata": {},
     "output_type": "execute_result"
    }
   ],
   "source": [
    "tables[1][\"style\"]"
   ]
  },
  {
   "cell_type": "code",
   "execution_count": 17,
   "metadata": {},
   "outputs": [
    {
     "name": "stdout",
     "output_type": "stream",
     "text": [
      "750\n"
     ]
    }
   ],
   "source": [
    "lists = soup.find_all(\"li\")\n",
    "print(len(lists))"
   ]
  },
  {
   "cell_type": "code",
   "execution_count": 18,
   "metadata": {},
   "outputs": [],
   "source": [
    "childs=list(lists[3].children)"
   ]
  },
  {
   "cell_type": "code",
   "execution_count": 19,
   "metadata": {},
   "outputs": [
    {
     "name": "stdout",
     "output_type": "stream",
     "text": [
      "4\n"
     ]
    }
   ],
   "source": [
    "print(len(childs))"
   ]
  },
  {
   "cell_type": "code",
   "execution_count": 21,
   "metadata": {},
   "outputs": [
    {
     "name": "stdout",
     "output_type": "stream",
     "text": [
      "[<a href=\"#Geografia\"><span class=\"tocnumber\">2</span> <span class=\"toctext\">Geografia</span></a>, '\\n', <ul>\n",
      "<li class=\"toclevel-2 tocsection-5\"><a href=\"#Hidrografia\"><span class=\"tocnumber\">2.1</span> <span class=\"toctext\">Hidrografia</span></a></li>\n",
      "<li class=\"toclevel-2 tocsection-6\"><a href=\"#Clima\"><span class=\"tocnumber\">2.2</span> <span class=\"toctext\">Clima</span></a></li>\n",
      "</ul>, '\\n']\n"
     ]
    }
   ],
   "source": [
    "print(childs)"
   ]
  },
  {
   "cell_type": "code",
   "execution_count": null,
   "metadata": {},
   "outputs": [],
   "source": []
  }
 ],
 "metadata": {
  "kernelspec": {
   "display_name": "Python 3",
   "language": "python",
   "name": "python3"
  },
  "language_info": {
   "codemirror_mode": {
    "name": "ipython",
    "version": 3
   },
   "file_extension": ".py",
   "mimetype": "text/x-python",
   "name": "python",
   "nbconvert_exporter": "python",
   "pygments_lexer": "ipython3",
   "version": "3.8.3"
  }
 },
 "nbformat": 4,
 "nbformat_minor": 4
}
