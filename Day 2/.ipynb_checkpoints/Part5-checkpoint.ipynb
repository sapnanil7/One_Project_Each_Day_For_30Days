{
 "cells": [
  {
   "cell_type": "markdown",
   "metadata": {},
   "source": [
    "# Use CSS selectors for searching complex patterns\n",
    "\n"
   ]
  },
  {
   "cell_type": "markdown",
   "metadata": {},
   "source": [
    "## Link\n",
    "\n",
    "https://pt.wikipedia.org/wiki/Rond%C3%B4nia"
   ]
  },
  {
   "cell_type": "code",
   "execution_count": 1,
   "metadata": {},
   "outputs": [],
   "source": [
    "import requests as req\n",
    "from bs4 import BeautifulSoup\n",
    "\n",
    "URL = 'https://pt.wikipedia.org/wiki/Rond%C3%B4nia'\n",
    "r = req.get(URL)\n",
    "soup = BeautifulSoup(r.content)"
   ]
  },
  {
   "cell_type": "code",
   "execution_count": 2,
   "metadata": {},
   "outputs": [],
   "source": [
    "selector = \"#mw-content-text > div.mw-parser-output > div:nth-child(49) > div > a > img\""
   ]
  },
  {
   "cell_type": "code",
   "execution_count": 3,
   "metadata": {},
   "outputs": [
    {
     "data": {
      "text/plain": [
       "[<img alt=\"\" class=\"thumbimage\" data-file-height=\"3000\" data-file-width=\"4000\" decoding=\"async\" height=\"165\" src=\"//upload.wikimedia.org/wikipedia/commons/thumb/9/97/Flona_Jamari.jpg/220px-Flona_Jamari.jpg\" srcset=\"//upload.wikimedia.org/wikipedia/commons/thumb/9/97/Flona_Jamari.jpg/330px-Flona_Jamari.jpg 1.5x, //upload.wikimedia.org/wikipedia/commons/thumb/9/97/Flona_Jamari.jpg/440px-Flona_Jamari.jpg 2x\" width=\"220\"/>]"
      ]
     },
     "execution_count": 3,
     "metadata": {},
     "output_type": "execute_result"
    }
   ],
   "source": [
    "soup.select(selector)"
   ]
  },
  {
   "cell_type": "code",
   "execution_count": 5,
   "metadata": {},
   "outputs": [
    {
     "data": {
      "text/plain": [
       "[<img alt=\"\" class=\"thumbimage\" data-file-height=\"2328\" data-file-width=\"3752\" decoding=\"async\" height=\"137\" src=\"//upload.wikimedia.org/wikipedia/commons/thumb/7/75/FORTE_PR%C3%8DNCIPE_DA_BEIRA_-_Costa_Marques_%28RO%29.jpg/220px-FORTE_PR%C3%8DNCIPE_DA_BEIRA_-_Costa_Marques_%28RO%29.jpg\" srcset=\"//upload.wikimedia.org/wikipedia/commons/thumb/7/75/FORTE_PR%C3%8DNCIPE_DA_BEIRA_-_Costa_Marques_%28RO%29.jpg/330px-FORTE_PR%C3%8DNCIPE_DA_BEIRA_-_Costa_Marques_%28RO%29.jpg 1.5x, //upload.wikimedia.org/wikipedia/commons/thumb/7/75/FORTE_PR%C3%8DNCIPE_DA_BEIRA_-_Costa_Marques_%28RO%29.jpg/440px-FORTE_PR%C3%8DNCIPE_DA_BEIRA_-_Costa_Marques_%28RO%29.jpg 2x\" width=\"220\"/>,\n",
       " <img alt=\"\" class=\"thumbimage\" data-file-height=\"959\" data-file-width=\"1314\" decoding=\"async\" height=\"161\" src=\"//upload.wikimedia.org/wikipedia/commons/thumb/a/a2/Esta%C3%A7%C3%A3o_inicial_da_Ferrovia_Madeira-Mamor%C3%A9%2C_Porto_Velho.png/220px-Esta%C3%A7%C3%A3o_inicial_da_Ferrovia_Madeira-Mamor%C3%A9%2C_Porto_Velho.png\" srcset=\"//upload.wikimedia.org/wikipedia/commons/thumb/a/a2/Esta%C3%A7%C3%A3o_inicial_da_Ferrovia_Madeira-Mamor%C3%A9%2C_Porto_Velho.png/330px-Esta%C3%A7%C3%A3o_inicial_da_Ferrovia_Madeira-Mamor%C3%A9%2C_Porto_Velho.png 1.5x, //upload.wikimedia.org/wikipedia/commons/thumb/a/a2/Esta%C3%A7%C3%A3o_inicial_da_Ferrovia_Madeira-Mamor%C3%A9%2C_Porto_Velho.png/440px-Esta%C3%A7%C3%A3o_inicial_da_Ferrovia_Madeira-Mamor%C3%A9%2C_Porto_Velho.png 2x\" width=\"220\"/>,\n",
       " <img alt=\"\" class=\"thumbimage\" data-file-height=\"3385\" data-file-width=\"4906\" decoding=\"async\" height=\"152\" src=\"//upload.wikimedia.org/wikipedia/commons/thumb/6/66/Autoridades_em_Visita_ao_Trecho_Conclu%C3%ADdo_da_Ferrovia_Madeira-Mamor%C3%A9_-_582%2C_Acervo_do_Museu_Paulista_da_USP_%28cropped%29.jpg/220px-Autoridades_em_Visita_ao_Trecho_Conclu%C3%ADdo_da_Ferrovia_Madeira-Mamor%C3%A9_-_582%2C_Acervo_do_Museu_Paulista_da_USP_%28cropped%29.jpg\" srcset=\"//upload.wikimedia.org/wikipedia/commons/thumb/6/66/Autoridades_em_Visita_ao_Trecho_Conclu%C3%ADdo_da_Ferrovia_Madeira-Mamor%C3%A9_-_582%2C_Acervo_do_Museu_Paulista_da_USP_%28cropped%29.jpg/330px-Autoridades_em_Visita_ao_Trecho_Conclu%C3%ADdo_da_Ferrovia_Madeira-Mamor%C3%A9_-_582%2C_Acervo_do_Museu_Paulista_da_USP_%28cropped%29.jpg 1.5x, //upload.wikimedia.org/wikipedia/commons/thumb/6/66/Autoridades_em_Visita_ao_Trecho_Conclu%C3%ADdo_da_Ferrovia_Madeira-Mamor%C3%A9_-_582%2C_Acervo_do_Museu_Paulista_da_USP_%28cropped%29.jpg/440px-Autoridades_em_Visita_ao_Trecho_Conclu%C3%ADdo_da_Ferrovia_Madeira-Mamor%C3%A9_-_582%2C_Acervo_do_Museu_Paulista_da_USP_%28cropped%29.jpg 2x\" width=\"220\"/>,\n",
       " <img alt=\"\" class=\"thumbimage\" data-file-height=\"4701\" data-file-width=\"5408\" decoding=\"async\" height=\"191\" src=\"//upload.wikimedia.org/wikipedia/commons/thumb/d/d7/Mapa_do_Territ%C3%B3rio_Federal_do_Guapor%C3%A9.tiff/lossy-page1-220px-Mapa_do_Territ%C3%B3rio_Federal_do_Guapor%C3%A9.tiff.jpg\" srcset=\"//upload.wikimedia.org/wikipedia/commons/thumb/d/d7/Mapa_do_Territ%C3%B3rio_Federal_do_Guapor%C3%A9.tiff/lossy-page1-330px-Mapa_do_Territ%C3%B3rio_Federal_do_Guapor%C3%A9.tiff.jpg 1.5x, //upload.wikimedia.org/wikipedia/commons/thumb/d/d7/Mapa_do_Territ%C3%B3rio_Federal_do_Guapor%C3%A9.tiff/lossy-page1-440px-Mapa_do_Territ%C3%B3rio_Federal_do_Guapor%C3%A9.tiff.jpg 2x\" width=\"220\"/>,\n",
       " <img alt=\"\" class=\"thumbimage\" data-file-height=\"1772\" data-file-width=\"2639\" decoding=\"async\" height=\"148\" src=\"//upload.wikimedia.org/wikipedia/commons/thumb/3/30/Porto_Velho_1_09072007.jpg/220px-Porto_Velho_1_09072007.jpg\" srcset=\"//upload.wikimedia.org/wikipedia/commons/thumb/3/30/Porto_Velho_1_09072007.jpg/330px-Porto_Velho_1_09072007.jpg 1.5x, //upload.wikimedia.org/wikipedia/commons/thumb/3/30/Porto_Velho_1_09072007.jpg/440px-Porto_Velho_1_09072007.jpg 2x\" width=\"220\"/>,\n",
       " <img alt=\"\" class=\"thumbimage\" data-file-height=\"2656\" data-file-width=\"3984\" decoding=\"async\" height=\"147\" src=\"//upload.wikimedia.org/wikipedia/commons/thumb/3/36/Floresta_Amaz%C3%B4nica_Espig%C3%A3o_do_Oeste.jpg/220px-Floresta_Amaz%C3%B4nica_Espig%C3%A3o_do_Oeste.jpg\" srcset=\"//upload.wikimedia.org/wikipedia/commons/thumb/3/36/Floresta_Amaz%C3%B4nica_Espig%C3%A3o_do_Oeste.jpg/330px-Floresta_Amaz%C3%B4nica_Espig%C3%A3o_do_Oeste.jpg 1.5x, //upload.wikimedia.org/wikipedia/commons/thumb/3/36/Floresta_Amaz%C3%B4nica_Espig%C3%A3o_do_Oeste.jpg/440px-Floresta_Amaz%C3%B4nica_Espig%C3%A3o_do_Oeste.jpg 2x\" width=\"220\"/>,\n",
       " <img alt=\"\" class=\"thumbimage\" data-file-height=\"1772\" data-file-width=\"2639\" decoding=\"async\" height=\"148\" src=\"//upload.wikimedia.org/wikipedia/commons/thumb/0/05/Rio_Madeira_09072007.jpg/220px-Rio_Madeira_09072007.jpg\" srcset=\"//upload.wikimedia.org/wikipedia/commons/thumb/0/05/Rio_Madeira_09072007.jpg/330px-Rio_Madeira_09072007.jpg 1.5x, //upload.wikimedia.org/wikipedia/commons/thumb/0/05/Rio_Madeira_09072007.jpg/440px-Rio_Madeira_09072007.jpg 2x\" width=\"220\"/>,\n",
       " <img alt=\"\" class=\"thumbimage\" data-file-height=\"3000\" data-file-width=\"4000\" decoding=\"async\" height=\"165\" src=\"//upload.wikimedia.org/wikipedia/commons/thumb/9/97/Flona_Jamari.jpg/220px-Flona_Jamari.jpg\" srcset=\"//upload.wikimedia.org/wikipedia/commons/thumb/9/97/Flona_Jamari.jpg/330px-Flona_Jamari.jpg 1.5x, //upload.wikimedia.org/wikipedia/commons/thumb/9/97/Flona_Jamari.jpg/440px-Flona_Jamari.jpg 2x\" width=\"220\"/>,\n",
       " <img alt=\"\" class=\"thumbimage\" data-file-height=\"300\" data-file-width=\"169\" decoding=\"async\" height=\"300\" src=\"//upload.wikimedia.org/wikipedia/commons/1/1b/Cathedral-pvh.jpg\" width=\"169\"/>,\n",
       " <img alt=\"\" class=\"thumbimage\" data-file-height=\"678\" data-file-width=\"1039\" decoding=\"async\" height=\"215\" src=\"//upload.wikimedia.org/wikipedia/commons/thumb/c/ce/Indigenous_Territories_in_Rond%C3%B4nia.svg/330px-Indigenous_Territories_in_Rond%C3%B4nia.svg.png\" srcset=\"//upload.wikimedia.org/wikipedia/commons/thumb/c/ce/Indigenous_Territories_in_Rond%C3%B4nia.svg/495px-Indigenous_Territories_in_Rond%C3%B4nia.svg.png 1.5x, //upload.wikimedia.org/wikipedia/commons/thumb/c/ce/Indigenous_Territories_in_Rond%C3%B4nia.svg/660px-Indigenous_Territories_in_Rond%C3%B4nia.svg.png 2x\" width=\"330\"/>,\n",
       " <img alt=\"\" class=\"thumbimage\" data-file-height=\"830\" data-file-width=\"580\" decoding=\"async\" height=\"243\" src=\"//upload.wikimedia.org/wikipedia/commons/thumb/2/21/Marcos_Rocha_em_abril_de_2019.jpg/170px-Marcos_Rocha_em_abril_de_2019.jpg\" srcset=\"//upload.wikimedia.org/wikipedia/commons/thumb/2/21/Marcos_Rocha_em_abril_de_2019.jpg/255px-Marcos_Rocha_em_abril_de_2019.jpg 1.5x, //upload.wikimedia.org/wikipedia/commons/thumb/2/21/Marcos_Rocha_em_abril_de_2019.jpg/340px-Marcos_Rocha_em_abril_de_2019.jpg 2x\" width=\"170\"/>,\n",
       " <img alt=\"\" class=\"thumbimage\" data-file-height=\"1024\" data-file-width=\"1221\" decoding=\"async\" height=\"185\" src=\"//upload.wikimedia.org/wikipedia/commons/thumb/2/29/Regi%C3%B5es_Geogr%C3%A1ficas_do_Estado_de_Rond%C3%B4nia.svg/220px-Regi%C3%B5es_Geogr%C3%A1ficas_do_Estado_de_Rond%C3%B4nia.svg.png\" srcset=\"//upload.wikimedia.org/wikipedia/commons/thumb/2/29/Regi%C3%B5es_Geogr%C3%A1ficas_do_Estado_de_Rond%C3%B4nia.svg/330px-Regi%C3%B5es_Geogr%C3%A1ficas_do_Estado_de_Rond%C3%B4nia.svg.png 1.5x, //upload.wikimedia.org/wikipedia/commons/thumb/2/29/Regi%C3%B5es_Geogr%C3%A1ficas_do_Estado_de_Rond%C3%B4nia.svg/440px-Regi%C3%B5es_Geogr%C3%A1ficas_do_Estado_de_Rond%C3%B4nia.svg.png 2x\" width=\"220\"/>,\n",
       " <img alt=\"\" class=\"thumbimage\" data-file-height=\"632\" data-file-width=\"1540\" decoding=\"async\" height=\"90\" src=\"//upload.wikimedia.org/wikipedia/commons/thumb/6/64/Tree_Map-Exportacoes_de_Rondonia_%282012%29.png/220px-Tree_Map-Exportacoes_de_Rondonia_%282012%29.png\" srcset=\"//upload.wikimedia.org/wikipedia/commons/thumb/6/64/Tree_Map-Exportacoes_de_Rondonia_%282012%29.png/330px-Tree_Map-Exportacoes_de_Rondonia_%282012%29.png 1.5x, //upload.wikimedia.org/wikipedia/commons/thumb/6/64/Tree_Map-Exportacoes_de_Rondonia_%282012%29.png/440px-Tree_Map-Exportacoes_de_Rondonia_%282012%29.png 2x\" width=\"220\"/>,\n",
       " <img alt=\"\" class=\"thumbimage\" data-file-height=\"600\" data-file-width=\"800\" decoding=\"async\" height=\"165\" src=\"//upload.wikimedia.org/wikipedia/commons/thumb/e/e0/Vilhena_026.jpg/220px-Vilhena_026.jpg\" srcset=\"//upload.wikimedia.org/wikipedia/commons/thumb/e/e0/Vilhena_026.jpg/330px-Vilhena_026.jpg 1.5x, //upload.wikimedia.org/wikipedia/commons/thumb/e/e0/Vilhena_026.jpg/440px-Vilhena_026.jpg 2x\" width=\"220\"/>,\n",
       " <img alt=\"\" class=\"thumbimage\" data-file-height=\"600\" data-file-width=\"800\" decoding=\"async\" height=\"165\" src=\"//upload.wikimedia.org/wikipedia/commons/thumb/d/d1/Ji-Parana_027.jpg/220px-Ji-Parana_027.jpg\" srcset=\"//upload.wikimedia.org/wikipedia/commons/thumb/d/d1/Ji-Parana_027.jpg/330px-Ji-Parana_027.jpg 1.5x, //upload.wikimedia.org/wikipedia/commons/thumb/d/d1/Ji-Parana_027.jpg/440px-Ji-Parana_027.jpg 2x\" width=\"220\"/>,\n",
       " <img alt=\"\" class=\"thumbimage\" data-file-height=\"351\" data-file-width=\"566\" decoding=\"async\" height=\"136\" src=\"//upload.wikimedia.org/wikipedia/commons/thumb/b/ba/Usina_Hidrel%C3%A9trica_Santo_Ant%C3%B4nio.jpg/220px-Usina_Hidrel%C3%A9trica_Santo_Ant%C3%B4nio.jpg\" srcset=\"//upload.wikimedia.org/wikipedia/commons/thumb/b/ba/Usina_Hidrel%C3%A9trica_Santo_Ant%C3%B4nio.jpg/330px-Usina_Hidrel%C3%A9trica_Santo_Ant%C3%B4nio.jpg 1.5x, //upload.wikimedia.org/wikipedia/commons/thumb/b/ba/Usina_Hidrel%C3%A9trica_Santo_Ant%C3%B4nio.jpg/440px-Usina_Hidrel%C3%A9trica_Santo_Ant%C3%B4nio.jpg 2x\" width=\"220\"/>,\n",
       " <img alt=\"\" class=\"thumbimage\" data-file-height=\"600\" data-file-width=\"800\" decoding=\"async\" height=\"165\" src=\"//upload.wikimedia.org/wikipedia/commons/thumb/c/c3/BR-364_Duplicada.jpg/220px-BR-364_Duplicada.jpg\" srcset=\"//upload.wikimedia.org/wikipedia/commons/thumb/c/c3/BR-364_Duplicada.jpg/330px-BR-364_Duplicada.jpg 1.5x, //upload.wikimedia.org/wikipedia/commons/thumb/c/c3/BR-364_Duplicada.jpg/440px-BR-364_Duplicada.jpg 2x\" width=\"220\"/>,\n",
       " <img alt=\"\" class=\"thumbimage\" data-file-height=\"1224\" data-file-width=\"1632\" decoding=\"async\" height=\"165\" src=\"//upload.wikimedia.org/wikipedia/commons/thumb/d/d5/Aeroporto_de_Porto_Velho2.jpg/220px-Aeroporto_de_Porto_Velho2.jpg\" srcset=\"//upload.wikimedia.org/wikipedia/commons/thumb/d/d5/Aeroporto_de_Porto_Velho2.jpg/330px-Aeroporto_de_Porto_Velho2.jpg 1.5x, //upload.wikimedia.org/wikipedia/commons/thumb/d/d5/Aeroporto_de_Porto_Velho2.jpg/440px-Aeroporto_de_Porto_Velho2.jpg 2x\" width=\"220\"/>,\n",
       " <img alt=\"\" class=\"thumbimage\" data-file-height=\"1127\" data-file-width=\"1502\" decoding=\"async\" height=\"165\" src=\"//upload.wikimedia.org/wikipedia/commons/thumb/8/87/Efmm_atual.png/220px-Efmm_atual.png\" srcset=\"//upload.wikimedia.org/wikipedia/commons/thumb/8/87/Efmm_atual.png/330px-Efmm_atual.png 1.5x, //upload.wikimedia.org/wikipedia/commons/thumb/8/87/Efmm_atual.png/440px-Efmm_atual.png 2x\" width=\"220\"/>,\n",
       " <img alt=\"\" class=\"thumbimage\" data-file-height=\"1772\" data-file-width=\"2639\" decoding=\"async\" height=\"148\" src=\"//upload.wikimedia.org/wikipedia/commons/thumb/3/30/Porto_Velho_1_09072007.jpg/220px-Porto_Velho_1_09072007.jpg\" srcset=\"//upload.wikimedia.org/wikipedia/commons/thumb/3/30/Porto_Velho_1_09072007.jpg/330px-Porto_Velho_1_09072007.jpg 1.5x, //upload.wikimedia.org/wikipedia/commons/thumb/3/30/Porto_Velho_1_09072007.jpg/440px-Porto_Velho_1_09072007.jpg 2x\" width=\"220\"/>,\n",
       " <img alt=\"\" class=\"thumbimage\" data-file-height=\"1224\" data-file-width=\"1632\" decoding=\"async\" height=\"165\" src=\"//upload.wikimedia.org/wikipedia/commons/thumb/8/81/UNIR.jpg/220px-UNIR.jpg\" srcset=\"//upload.wikimedia.org/wikipedia/commons/thumb/8/81/UNIR.jpg/330px-UNIR.jpg 1.5x, //upload.wikimedia.org/wikipedia/commons/thumb/8/81/UNIR.jpg/440px-UNIR.jpg 2x\" width=\"220\"/>,\n",
       " <img alt=\"\" class=\"thumbimage\" data-file-height=\"2656\" data-file-width=\"3984\" decoding=\"async\" height=\"147\" src=\"//upload.wikimedia.org/wikipedia/commons/thumb/6/6b/Hospital_Memorial.JPG/220px-Hospital_Memorial.JPG\" srcset=\"//upload.wikimedia.org/wikipedia/commons/thumb/6/6b/Hospital_Memorial.JPG/330px-Hospital_Memorial.JPG 1.5x, //upload.wikimedia.org/wikipedia/commons/thumb/6/6b/Hospital_Memorial.JPG/440px-Hospital_Memorial.JPG 2x\" width=\"220\"/>,\n",
       " <img alt=\"\" class=\"thumbimage\" data-file-height=\"1224\" data-file-width=\"1632\" decoding=\"async\" height=\"165\" src=\"//upload.wikimedia.org/wikipedia/commons/thumb/1/1e/Casa_da_Cultura_de_Porto_Velho.jpg/220px-Casa_da_Cultura_de_Porto_Velho.jpg\" srcset=\"//upload.wikimedia.org/wikipedia/commons/thumb/1/1e/Casa_da_Cultura_de_Porto_Velho.jpg/330px-Casa_da_Cultura_de_Porto_Velho.jpg 1.5x, //upload.wikimedia.org/wikipedia/commons/thumb/1/1e/Casa_da_Cultura_de_Porto_Velho.jpg/440px-Casa_da_Cultura_de_Porto_Velho.jpg 2x\" width=\"220\"/>,\n",
       " <img alt=\"\" class=\"thumbimage\" data-file-height=\"867\" data-file-width=\"800\" decoding=\"async\" height=\"238\" src=\"//upload.wikimedia.org/wikipedia/commons/thumb/6/68/Augusto_Branco.jpg/220px-Augusto_Branco.jpg\" srcset=\"//upload.wikimedia.org/wikipedia/commons/thumb/6/68/Augusto_Branco.jpg/330px-Augusto_Branco.jpg 1.5x, //upload.wikimedia.org/wikipedia/commons/thumb/6/68/Augusto_Branco.jpg/440px-Augusto_Branco.jpg 2x\" width=\"220\"/>]"
      ]
     },
     "execution_count": 5,
     "metadata": {},
     "output_type": "execute_result"
    }
   ],
   "source": [
    "selector = \".thumbimage\"\n",
    "soup.select(selector)"
   ]
  },
  {
   "cell_type": "code",
   "execution_count": null,
   "metadata": {},
   "outputs": [],
   "source": []
  }
 ],
 "metadata": {
  "kernelspec": {
   "display_name": "Python 3",
   "language": "python",
   "name": "python3"
  },
  "language_info": {
   "codemirror_mode": {
    "name": "ipython",
    "version": 3
   },
   "file_extension": ".py",
   "mimetype": "text/x-python",
   "name": "python",
   "nbconvert_exporter": "python",
   "pygments_lexer": "ipython3",
   "version": "3.8.3"
  }
 },
 "nbformat": 4,
 "nbformat_minor": 4
}
